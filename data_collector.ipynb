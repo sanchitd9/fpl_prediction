{
 "cells": [
  {
   "cell_type": "code",
   "execution_count": 9,
   "id": "initial_id",
   "metadata": {
    "collapsed": true,
    "ExecuteTime": {
     "end_time": "2023-11-27T16:41:37.990637200Z",
     "start_time": "2023-11-27T16:41:37.193927300Z"
    }
   },
   "outputs": [],
   "source": [
    "# Imports\n",
    "import requests\n",
    "import pandas as pd"
   ]
  },
  {
   "cell_type": "code",
   "execution_count": 4,
   "outputs": [],
   "source": [
    "# Official FPL API Endpoints\n",
    "API_URL = \"https://fantasy.premierleague.com/api/\"\n",
    "ALL_DATA_ENDPOINT = \"bootstrap-static\"\n",
    "FIXTURES_ENDPOINT = \"fixtures\"\n",
    "PLAYER_DATA_ENDPOINT = \"element-summary\""
   ],
   "metadata": {
    "collapsed": false,
    "ExecuteTime": {
     "end_time": "2023-11-27T16:39:34.680398Z",
     "start_time": "2023-11-27T16:39:34.676387800Z"
    }
   },
   "id": "a6ba6d40c0894e54"
  },
  {
   "cell_type": "code",
   "execution_count": 5,
   "outputs": [],
   "source": [
    "# Fetch all the data\n",
    "data = requests.get(API_URL + ALL_DATA_ENDPOINT).json()"
   ],
   "metadata": {
    "collapsed": false,
    "ExecuteTime": {
     "end_time": "2023-11-27T16:39:36.113525Z",
     "start_time": "2023-11-27T16:39:35.217579900Z"
    }
   },
   "id": "bfdad18a25dc5d46"
  },
  {
   "cell_type": "code",
   "execution_count": 7,
   "outputs": [
    {
     "data": {
      "text/plain": "dict_keys(['events', 'game_settings', 'phases', 'teams', 'total_players', 'elements', 'element_stats', 'element_types'])"
     },
     "execution_count": 7,
     "metadata": {},
     "output_type": "execute_result"
    }
   ],
   "source": [
    "# Check the different data types in the result\n",
    "data.keys()"
   ],
   "metadata": {
    "collapsed": false,
    "ExecuteTime": {
     "end_time": "2023-11-27T16:39:50.636293Z",
     "start_time": "2023-11-27T16:39:50.581507300Z"
    }
   },
   "id": "af2cbff401de6eb0"
  },
  {
   "cell_type": "code",
   "execution_count": null,
   "outputs": [],
   "source": [
    "# Create a data frame for events\n",
    "# Events contains overall data for each Gameweek\n",
    "events_df = pd.DataFrame(data[\"events\"])"
   ],
   "metadata": {
    "collapsed": false
   },
   "id": "e8e00629dd804be7"
  },
  {
   "cell_type": "code",
   "execution_count": 16,
   "outputs": [
    {
     "data": {
      "text/plain": "   id        name         deadline_time  average_entry_score  finished  \\\n0   1  Gameweek 1  2023-08-11T17:30:00Z                   64      True   \n1   2  Gameweek 2  2023-08-18T17:15:00Z                   44      True   \n2   3  Gameweek 3  2023-08-25T17:30:00Z                   44      True   \n3   4  Gameweek 4  2023-09-01T17:30:00Z                   72      True   \n4   5  Gameweek 5  2023-09-16T10:00:00Z                   44      True   \n\n   data_checked  highest_scoring_entry  deadline_time_epoch  \\\n0          True              3383750.0           1691775000   \n1          True              3338487.0           1692378900   \n2          True              9368956.0           1692984600   \n3          True              4354697.0           1693589400   \n4          True              6211182.0           1694858400   \n\n   deadline_time_game_offset  highest_score  ...  cup_leagues_created  \\\n0                          0          127.0  ...                False   \n1                          0          120.0  ...                 True   \n2                          0          128.0  ...                 True   \n3                          0          148.0  ...                 True   \n4                          0          102.0  ...                 True   \n\n   h2h_ko_matches_created                                         chip_plays  \\\n0                   False  [{'chip_name': 'bboost', 'num_played': 163222}...   \n1                    True  [{'chip_name': 'bboost', 'num_played': 126778}...   \n2                    True  [{'chip_name': 'bboost', 'num_played': 124110}...   \n3                    True  [{'chip_name': 'bboost', 'num_played': 109196}...   \n4                    True  [{'chip_name': 'bboost', 'num_played': 96469},...   \n\n   most_selected  most_transferred_in top_element           top_element_info  \\\n0          355.0                  1.0       395.0  {'id': 395, 'points': 14}   \n1          355.0                195.0       108.0  {'id': 108, 'points': 16}   \n2          355.0                108.0       216.0  {'id': 216, 'points': 19}   \n3          355.0                216.0       516.0  {'id': 516, 'points': 20}   \n4          355.0                516.0       344.0  {'id': 344, 'points': 13}   \n\n   transfers_made  most_captained most_vice_captained  \n0               0           355.0                19.0  \n1        13130353           355.0                19.0  \n2        17619532           355.0                19.0  \n3        16035365           355.0                19.0  \n4        14363988           355.0                19.0  \n\n[5 rows x 23 columns]",
      "text/html": "<div>\n<style scoped>\n    .dataframe tbody tr th:only-of-type {\n        vertical-align: middle;\n    }\n\n    .dataframe tbody tr th {\n        vertical-align: top;\n    }\n\n    .dataframe thead th {\n        text-align: right;\n    }\n</style>\n<table border=\"1\" class=\"dataframe\">\n  <thead>\n    <tr style=\"text-align: right;\">\n      <th></th>\n      <th>id</th>\n      <th>name</th>\n      <th>deadline_time</th>\n      <th>average_entry_score</th>\n      <th>finished</th>\n      <th>data_checked</th>\n      <th>highest_scoring_entry</th>\n      <th>deadline_time_epoch</th>\n      <th>deadline_time_game_offset</th>\n      <th>highest_score</th>\n      <th>...</th>\n      <th>cup_leagues_created</th>\n      <th>h2h_ko_matches_created</th>\n      <th>chip_plays</th>\n      <th>most_selected</th>\n      <th>most_transferred_in</th>\n      <th>top_element</th>\n      <th>top_element_info</th>\n      <th>transfers_made</th>\n      <th>most_captained</th>\n      <th>most_vice_captained</th>\n    </tr>\n  </thead>\n  <tbody>\n    <tr>\n      <th>0</th>\n      <td>1</td>\n      <td>Gameweek 1</td>\n      <td>2023-08-11T17:30:00Z</td>\n      <td>64</td>\n      <td>True</td>\n      <td>True</td>\n      <td>3383750.0</td>\n      <td>1691775000</td>\n      <td>0</td>\n      <td>127.0</td>\n      <td>...</td>\n      <td>False</td>\n      <td>False</td>\n      <td>[{'chip_name': 'bboost', 'num_played': 163222}...</td>\n      <td>355.0</td>\n      <td>1.0</td>\n      <td>395.0</td>\n      <td>{'id': 395, 'points': 14}</td>\n      <td>0</td>\n      <td>355.0</td>\n      <td>19.0</td>\n    </tr>\n    <tr>\n      <th>1</th>\n      <td>2</td>\n      <td>Gameweek 2</td>\n      <td>2023-08-18T17:15:00Z</td>\n      <td>44</td>\n      <td>True</td>\n      <td>True</td>\n      <td>3338487.0</td>\n      <td>1692378900</td>\n      <td>0</td>\n      <td>120.0</td>\n      <td>...</td>\n      <td>True</td>\n      <td>True</td>\n      <td>[{'chip_name': 'bboost', 'num_played': 126778}...</td>\n      <td>355.0</td>\n      <td>195.0</td>\n      <td>108.0</td>\n      <td>{'id': 108, 'points': 16}</td>\n      <td>13130353</td>\n      <td>355.0</td>\n      <td>19.0</td>\n    </tr>\n    <tr>\n      <th>2</th>\n      <td>3</td>\n      <td>Gameweek 3</td>\n      <td>2023-08-25T17:30:00Z</td>\n      <td>44</td>\n      <td>True</td>\n      <td>True</td>\n      <td>9368956.0</td>\n      <td>1692984600</td>\n      <td>0</td>\n      <td>128.0</td>\n      <td>...</td>\n      <td>True</td>\n      <td>True</td>\n      <td>[{'chip_name': 'bboost', 'num_played': 124110}...</td>\n      <td>355.0</td>\n      <td>108.0</td>\n      <td>216.0</td>\n      <td>{'id': 216, 'points': 19}</td>\n      <td>17619532</td>\n      <td>355.0</td>\n      <td>19.0</td>\n    </tr>\n    <tr>\n      <th>3</th>\n      <td>4</td>\n      <td>Gameweek 4</td>\n      <td>2023-09-01T17:30:00Z</td>\n      <td>72</td>\n      <td>True</td>\n      <td>True</td>\n      <td>4354697.0</td>\n      <td>1693589400</td>\n      <td>0</td>\n      <td>148.0</td>\n      <td>...</td>\n      <td>True</td>\n      <td>True</td>\n      <td>[{'chip_name': 'bboost', 'num_played': 109196}...</td>\n      <td>355.0</td>\n      <td>216.0</td>\n      <td>516.0</td>\n      <td>{'id': 516, 'points': 20}</td>\n      <td>16035365</td>\n      <td>355.0</td>\n      <td>19.0</td>\n    </tr>\n    <tr>\n      <th>4</th>\n      <td>5</td>\n      <td>Gameweek 5</td>\n      <td>2023-09-16T10:00:00Z</td>\n      <td>44</td>\n      <td>True</td>\n      <td>True</td>\n      <td>6211182.0</td>\n      <td>1694858400</td>\n      <td>0</td>\n      <td>102.0</td>\n      <td>...</td>\n      <td>True</td>\n      <td>True</td>\n      <td>[{'chip_name': 'bboost', 'num_played': 96469},...</td>\n      <td>355.0</td>\n      <td>516.0</td>\n      <td>344.0</td>\n      <td>{'id': 344, 'points': 13}</td>\n      <td>14363988</td>\n      <td>355.0</td>\n      <td>19.0</td>\n    </tr>\n  </tbody>\n</table>\n<p>5 rows × 23 columns</p>\n</div>"
     },
     "execution_count": 16,
     "metadata": {},
     "output_type": "execute_result"
    }
   ],
   "source": [
    "events_df.head()"
   ],
   "metadata": {
    "collapsed": false,
    "ExecuteTime": {
     "end_time": "2023-11-27T16:43:54.547274700Z",
     "start_time": "2023-11-27T16:43:54.538864100Z"
    }
   },
   "id": "98a351c55f231e3b"
  },
  {
   "cell_type": "code",
   "execution_count": 20,
   "outputs": [],
   "source": [
    "# Create a data frame for all the teams\n",
    "teams_df = pd.DataFrame(data[\"teams\"])"
   ],
   "metadata": {
    "collapsed": false,
    "ExecuteTime": {
     "end_time": "2023-11-27T16:44:52.456083700Z",
     "start_time": "2023-11-27T16:44:52.441699100Z"
    }
   },
   "id": "f36b1280e5bb3baa"
  },
  {
   "cell_type": "code",
   "execution_count": 21,
   "outputs": [
    {
     "data": {
      "text/plain": "   code  draw  form  id  loss         name  played  points  position  \\\n0     3     0  None   1     0      Arsenal       0       0         0   \n1     7     0  None   2     0  Aston Villa       0       0         0   \n2    91     0  None   3     0  Bournemouth       0       0         0   \n3    94     0  None   4     0    Brentford       0       0         0   \n4    36     0  None   5     0     Brighton       0       0         0   \n\n  short_name  ...  team_division unavailable  win  strength_overall_home  \\\n0        ARS  ...           None       False    0                   1230   \n1        AVL  ...           None       False    0                   1115   \n2        BOU  ...           None       False    0                   1060   \n3        BRE  ...           None       False    0                   1125   \n4        BHA  ...           None       False    0                   1165   \n\n   strength_overall_away  strength_attack_home  strength_attack_away  \\\n0                   1285                  1250                  1250   \n1                   1175                  1130                  1190   \n2                   1095                  1050                  1100   \n3                   1205                  1120                  1220   \n4                   1210                  1120                  1200   \n\n   strength_defence_home  strength_defence_away  pulse_id  \n0                   1210                   1320         1  \n1                   1100                   1160         2  \n2                   1060                   1090       127  \n3                   1130                   1190       130  \n4                   1210                   1240       131  \n\n[5 rows x 21 columns]",
      "text/html": "<div>\n<style scoped>\n    .dataframe tbody tr th:only-of-type {\n        vertical-align: middle;\n    }\n\n    .dataframe tbody tr th {\n        vertical-align: top;\n    }\n\n    .dataframe thead th {\n        text-align: right;\n    }\n</style>\n<table border=\"1\" class=\"dataframe\">\n  <thead>\n    <tr style=\"text-align: right;\">\n      <th></th>\n      <th>code</th>\n      <th>draw</th>\n      <th>form</th>\n      <th>id</th>\n      <th>loss</th>\n      <th>name</th>\n      <th>played</th>\n      <th>points</th>\n      <th>position</th>\n      <th>short_name</th>\n      <th>...</th>\n      <th>team_division</th>\n      <th>unavailable</th>\n      <th>win</th>\n      <th>strength_overall_home</th>\n      <th>strength_overall_away</th>\n      <th>strength_attack_home</th>\n      <th>strength_attack_away</th>\n      <th>strength_defence_home</th>\n      <th>strength_defence_away</th>\n      <th>pulse_id</th>\n    </tr>\n  </thead>\n  <tbody>\n    <tr>\n      <th>0</th>\n      <td>3</td>\n      <td>0</td>\n      <td>None</td>\n      <td>1</td>\n      <td>0</td>\n      <td>Arsenal</td>\n      <td>0</td>\n      <td>0</td>\n      <td>0</td>\n      <td>ARS</td>\n      <td>...</td>\n      <td>None</td>\n      <td>False</td>\n      <td>0</td>\n      <td>1230</td>\n      <td>1285</td>\n      <td>1250</td>\n      <td>1250</td>\n      <td>1210</td>\n      <td>1320</td>\n      <td>1</td>\n    </tr>\n    <tr>\n      <th>1</th>\n      <td>7</td>\n      <td>0</td>\n      <td>None</td>\n      <td>2</td>\n      <td>0</td>\n      <td>Aston Villa</td>\n      <td>0</td>\n      <td>0</td>\n      <td>0</td>\n      <td>AVL</td>\n      <td>...</td>\n      <td>None</td>\n      <td>False</td>\n      <td>0</td>\n      <td>1115</td>\n      <td>1175</td>\n      <td>1130</td>\n      <td>1190</td>\n      <td>1100</td>\n      <td>1160</td>\n      <td>2</td>\n    </tr>\n    <tr>\n      <th>2</th>\n      <td>91</td>\n      <td>0</td>\n      <td>None</td>\n      <td>3</td>\n      <td>0</td>\n      <td>Bournemouth</td>\n      <td>0</td>\n      <td>0</td>\n      <td>0</td>\n      <td>BOU</td>\n      <td>...</td>\n      <td>None</td>\n      <td>False</td>\n      <td>0</td>\n      <td>1060</td>\n      <td>1095</td>\n      <td>1050</td>\n      <td>1100</td>\n      <td>1060</td>\n      <td>1090</td>\n      <td>127</td>\n    </tr>\n    <tr>\n      <th>3</th>\n      <td>94</td>\n      <td>0</td>\n      <td>None</td>\n      <td>4</td>\n      <td>0</td>\n      <td>Brentford</td>\n      <td>0</td>\n      <td>0</td>\n      <td>0</td>\n      <td>BRE</td>\n      <td>...</td>\n      <td>None</td>\n      <td>False</td>\n      <td>0</td>\n      <td>1125</td>\n      <td>1205</td>\n      <td>1120</td>\n      <td>1220</td>\n      <td>1130</td>\n      <td>1190</td>\n      <td>130</td>\n    </tr>\n    <tr>\n      <th>4</th>\n      <td>36</td>\n      <td>0</td>\n      <td>None</td>\n      <td>5</td>\n      <td>0</td>\n      <td>Brighton</td>\n      <td>0</td>\n      <td>0</td>\n      <td>0</td>\n      <td>BHA</td>\n      <td>...</td>\n      <td>None</td>\n      <td>False</td>\n      <td>0</td>\n      <td>1165</td>\n      <td>1210</td>\n      <td>1120</td>\n      <td>1200</td>\n      <td>1210</td>\n      <td>1240</td>\n      <td>131</td>\n    </tr>\n  </tbody>\n</table>\n<p>5 rows × 21 columns</p>\n</div>"
     },
     "execution_count": 21,
     "metadata": {},
     "output_type": "execute_result"
    }
   ],
   "source": [
    "teams_df.head()"
   ],
   "metadata": {
    "collapsed": false,
    "ExecuteTime": {
     "end_time": "2023-11-27T16:44:57.529708500Z",
     "start_time": "2023-11-27T16:44:57.494017600Z"
    }
   },
   "id": "9218e0bd9e561e86"
  },
  {
   "cell_type": "code",
   "execution_count": 27,
   "outputs": [],
   "source": [
    "# Create a data frame for all the players. This has overall stats for the players so far this season\n",
    "players_df = pd.DataFrame(data[\"elements\"])"
   ],
   "metadata": {
    "collapsed": false,
    "ExecuteTime": {
     "end_time": "2023-11-27T16:49:05.721363300Z",
     "start_time": "2023-11-27T16:49:05.674755Z"
    }
   },
   "id": "ed385f3d348c0972"
  },
  {
   "cell_type": "code",
   "execution_count": 28,
   "outputs": [
    {
     "data": {
      "text/plain": "   chance_of_playing_next_round  chance_of_playing_this_round    code  \\\n0                           0.0                           0.0  232223   \n1                           NaN                           NaN   58822   \n2                         100.0                         100.0  153256   \n3                           0.0                           0.0  438098   \n4                         100.0                         100.0  226597   \n\n   cost_change_event  cost_change_event_fall  cost_change_start  \\\n0                  0                       0                 -1   \n1                  0                       0                 -1   \n2                  0                       0                 -1   \n3                  0                       0                 -1   \n4                  1                      -1                 -1   \n\n   cost_change_start_fall  dreamteam_count  element_type ep_next  ...  \\\n0                       1                0             4     0.0  ...   \n1                       1                0             2     0.5  ...   \n2                       1                0             3     0.5  ...   \n3                       1                0             3     0.0  ...   \n4                       1                0             2     3.8  ...   \n\n  now_cost_rank  now_cost_rank_type form_rank form_rank_type  \\\n0           524                  94       547             54   \n1           716                 227       378            118   \n2           492                 281       527            193   \n3           127                  80       744            322   \n4           254                  33        82             21   \n\n   points_per_game_rank  points_per_game_rank_type selected_rank  \\\n0                   611                         64           305   \n1                   474                        158           251   \n2                    54                         30           403   \n3                   185                         85           405   \n4                   119                         38            20   \n\n  selected_rank_type  starts_per_90 clean_sheets_per_90  \n0                 47           0.00                0.00  \n1                 99           0.00                0.00  \n2                130           0.00                0.00  \n3                131           0.76                0.38  \n4                  7           0.97                0.43  \n\n[5 rows x 88 columns]",
      "text/html": "<div>\n<style scoped>\n    .dataframe tbody tr th:only-of-type {\n        vertical-align: middle;\n    }\n\n    .dataframe tbody tr th {\n        vertical-align: top;\n    }\n\n    .dataframe thead th {\n        text-align: right;\n    }\n</style>\n<table border=\"1\" class=\"dataframe\">\n  <thead>\n    <tr style=\"text-align: right;\">\n      <th></th>\n      <th>chance_of_playing_next_round</th>\n      <th>chance_of_playing_this_round</th>\n      <th>code</th>\n      <th>cost_change_event</th>\n      <th>cost_change_event_fall</th>\n      <th>cost_change_start</th>\n      <th>cost_change_start_fall</th>\n      <th>dreamteam_count</th>\n      <th>element_type</th>\n      <th>ep_next</th>\n      <th>...</th>\n      <th>now_cost_rank</th>\n      <th>now_cost_rank_type</th>\n      <th>form_rank</th>\n      <th>form_rank_type</th>\n      <th>points_per_game_rank</th>\n      <th>points_per_game_rank_type</th>\n      <th>selected_rank</th>\n      <th>selected_rank_type</th>\n      <th>starts_per_90</th>\n      <th>clean_sheets_per_90</th>\n    </tr>\n  </thead>\n  <tbody>\n    <tr>\n      <th>0</th>\n      <td>0.0</td>\n      <td>0.0</td>\n      <td>232223</td>\n      <td>0</td>\n      <td>0</td>\n      <td>-1</td>\n      <td>1</td>\n      <td>0</td>\n      <td>4</td>\n      <td>0.0</td>\n      <td>...</td>\n      <td>524</td>\n      <td>94</td>\n      <td>547</td>\n      <td>54</td>\n      <td>611</td>\n      <td>64</td>\n      <td>305</td>\n      <td>47</td>\n      <td>0.00</td>\n      <td>0.00</td>\n    </tr>\n    <tr>\n      <th>1</th>\n      <td>NaN</td>\n      <td>NaN</td>\n      <td>58822</td>\n      <td>0</td>\n      <td>0</td>\n      <td>-1</td>\n      <td>1</td>\n      <td>0</td>\n      <td>2</td>\n      <td>0.5</td>\n      <td>...</td>\n      <td>716</td>\n      <td>227</td>\n      <td>378</td>\n      <td>118</td>\n      <td>474</td>\n      <td>158</td>\n      <td>251</td>\n      <td>99</td>\n      <td>0.00</td>\n      <td>0.00</td>\n    </tr>\n    <tr>\n      <th>2</th>\n      <td>100.0</td>\n      <td>100.0</td>\n      <td>153256</td>\n      <td>0</td>\n      <td>0</td>\n      <td>-1</td>\n      <td>1</td>\n      <td>0</td>\n      <td>3</td>\n      <td>0.5</td>\n      <td>...</td>\n      <td>492</td>\n      <td>281</td>\n      <td>527</td>\n      <td>193</td>\n      <td>54</td>\n      <td>30</td>\n      <td>403</td>\n      <td>130</td>\n      <td>0.00</td>\n      <td>0.00</td>\n    </tr>\n    <tr>\n      <th>3</th>\n      <td>0.0</td>\n      <td>0.0</td>\n      <td>438098</td>\n      <td>0</td>\n      <td>0</td>\n      <td>-1</td>\n      <td>1</td>\n      <td>0</td>\n      <td>3</td>\n      <td>0.0</td>\n      <td>...</td>\n      <td>127</td>\n      <td>80</td>\n      <td>744</td>\n      <td>322</td>\n      <td>185</td>\n      <td>85</td>\n      <td>405</td>\n      <td>131</td>\n      <td>0.76</td>\n      <td>0.38</td>\n    </tr>\n    <tr>\n      <th>4</th>\n      <td>100.0</td>\n      <td>100.0</td>\n      <td>226597</td>\n      <td>1</td>\n      <td>-1</td>\n      <td>-1</td>\n      <td>1</td>\n      <td>0</td>\n      <td>2</td>\n      <td>3.8</td>\n      <td>...</td>\n      <td>254</td>\n      <td>33</td>\n      <td>82</td>\n      <td>21</td>\n      <td>119</td>\n      <td>38</td>\n      <td>20</td>\n      <td>7</td>\n      <td>0.97</td>\n      <td>0.43</td>\n    </tr>\n  </tbody>\n</table>\n<p>5 rows × 88 columns</p>\n</div>"
     },
     "execution_count": 28,
     "metadata": {},
     "output_type": "execute_result"
    }
   ],
   "source": [
    "players_df.head()"
   ],
   "metadata": {
    "collapsed": false,
    "ExecuteTime": {
     "end_time": "2023-11-27T16:49:08.876826500Z",
     "start_time": "2023-11-27T16:49:08.827603700Z"
    }
   },
   "id": "2a988a27f37f4540"
  },
  {
   "cell_type": "code",
   "execution_count": null,
   "outputs": [],
   "source": [
    "# Get detailed info for each player from players_df.\n",
    "player_fixtures_df = pd.DataFrame()\n",
    "player_history_df = pd.DataFrame()\n",
    "player_history_past_df = pd.DataFrame()\n",
    "\n",
    "for i in range(len(players_df)):\n",
    "    # Fetch the player id\n",
    "    player_id = players_df.iloc[i][\"id\"]\n",
    "    # Get the individual player data\n",
    "    player_data = requests.get(API_URL + PLAYER_DATA_ENDPOINT + f\"/{player_id}\").json()\n",
    "    # Extract the upcoming fixtures \n",
    "    player_fixtures = pd.DataFrame(player_data[\"fixtures\"])\n",
    "    # Extract past fixtures from the same season\n",
    "    player_history = pd.DataFrame(player_data[\"history\"])\n",
    "    # Extract past seasons' data\n",
    "    player_history_past = pd.DataFrame(player_data[\"history_past\"])\n",
    "    \n",
    "    # Add player id to all the data frames\n",
    "    player_fixtures[\"player_id\"] = player_id\n",
    "    player_history[\"player_id\"] = player_id\n",
    "    player_history_past[\"player_id\"] = player_id\n",
    "\n",
    "    player_fixtures_df = pd.concat([player_fixtures_df, player_fixtures])\n",
    "    player_history_df = pd.concat([player_history_df, player_history])\n",
    "    player_history_past_df = pd.concat([player_history_past_df, player_history_past])\n",
    "\n",
    "    print(f\"Fetching data for {players_df.iloc[i]['first_name']} {players_df.iloc[i]['second_name']}\")\n",
    "    if i % 20 == 0:\n",
    "        print(f\"Progress: {(i / len(players_df) * 100): .2f}%\")\n"
   ],
   "metadata": {
    "collapsed": false
   },
   "id": "ad10d0730ffb5d21"
  },
  {
   "cell_type": "code",
   "execution_count": null,
   "outputs": [],
   "source": [
    "player_fixtures_df.head()"
   ],
   "metadata": {
    "collapsed": false
   },
   "id": "d3eb7eb6001e6959"
  },
  {
   "cell_type": "code",
   "execution_count": null,
   "outputs": [],
   "source": [
    "player_history_df.head()"
   ],
   "metadata": {
    "collapsed": false
   },
   "id": "995268025cd36ddb"
  },
  {
   "cell_type": "code",
   "execution_count": null,
   "outputs": [],
   "source": [
    "player_history_past_df.head()"
   ],
   "metadata": {
    "collapsed": false
   },
   "id": "d524a1d497b800be"
  },
  {
   "cell_type": "code",
   "execution_count": null,
   "outputs": [],
   "source": [
    "# Save all the dataframes\n",
    "events_df.to_csv(\"data/events.csv\")\n",
    "teams_df.to_csv(\"data/teams.csv\")\n",
    "players_df.to_csv(\"data/players.csv\")\n",
    "player_fixtures_df.to_csv(\"data/player_fixtures.csv\")\n",
    "player_history_df.to_csv(\"data/player_history.csv\")\n",
    "player_history_past_df.to_csv(\"data/player_history_past.csv\")"
   ],
   "metadata": {
    "collapsed": false
   },
   "id": "a1784d356761a9d5"
  }
 ],
 "metadata": {
  "kernelspec": {
   "display_name": "Python 3",
   "language": "python",
   "name": "python3"
  },
  "language_info": {
   "codemirror_mode": {
    "name": "ipython",
    "version": 2
   },
   "file_extension": ".py",
   "mimetype": "text/x-python",
   "name": "python",
   "nbconvert_exporter": "python",
   "pygments_lexer": "ipython2",
   "version": "2.7.6"
  }
 },
 "nbformat": 4,
 "nbformat_minor": 5
}
